{
 "cells": [
  {
   "cell_type": "markdown",
   "metadata": {},
   "source": [
    "# Support Vector Machine"
   ]
  },
  {
   "cell_type": "markdown",
   "metadata": {},
   "source": [
    "Objective: Predict Fall detection data set of Chinese hospitals of old age patients.  \n",
    "           0- Standing 1- Walking 2- Sitting 3- Falling 4- Cramps 5- Running  \n",
    "Dataset: falldetection.csv  \n",
    "Ref: NA"
   ]
  },
  {
   "cell_type": "code",
   "execution_count": 1,
   "metadata": {},
   "outputs": [
    {
     "name": "stdout",
     "output_type": "stream",
     "text": [
      "(16382, 7)\n"
     ]
    },
    {
     "data": {
      "text/html": [
       "<div>\n",
       "<style scoped>\n",
       "    .dataframe tbody tr th:only-of-type {\n",
       "        vertical-align: middle;\n",
       "    }\n",
       "\n",
       "    .dataframe tbody tr th {\n",
       "        vertical-align: top;\n",
       "    }\n",
       "\n",
       "    .dataframe thead th {\n",
       "        text-align: right;\n",
       "    }\n",
       "</style>\n",
       "<table border=\"1\" class=\"dataframe\">\n",
       "  <thead>\n",
       "    <tr style=\"text-align: right;\">\n",
       "      <th></th>\n",
       "      <th>ACTIVITY</th>\n",
       "      <th>TIME</th>\n",
       "      <th>SL</th>\n",
       "      <th>EEG</th>\n",
       "      <th>BP</th>\n",
       "      <th>HR</th>\n",
       "      <th>CIRCLUATION</th>\n",
       "    </tr>\n",
       "  </thead>\n",
       "  <tbody>\n",
       "    <tr>\n",
       "      <th>0</th>\n",
       "      <td>3</td>\n",
       "      <td>4722.92</td>\n",
       "      <td>4019.64</td>\n",
       "      <td>-1600.00</td>\n",
       "      <td>13</td>\n",
       "      <td>79</td>\n",
       "      <td>317</td>\n",
       "    </tr>\n",
       "    <tr>\n",
       "      <th>1</th>\n",
       "      <td>2</td>\n",
       "      <td>4059.12</td>\n",
       "      <td>2191.03</td>\n",
       "      <td>-1146.08</td>\n",
       "      <td>20</td>\n",
       "      <td>54</td>\n",
       "      <td>165</td>\n",
       "    </tr>\n",
       "    <tr>\n",
       "      <th>2</th>\n",
       "      <td>2</td>\n",
       "      <td>4773.56</td>\n",
       "      <td>2787.99</td>\n",
       "      <td>-1263.38</td>\n",
       "      <td>46</td>\n",
       "      <td>67</td>\n",
       "      <td>224</td>\n",
       "    </tr>\n",
       "    <tr>\n",
       "      <th>3</th>\n",
       "      <td>4</td>\n",
       "      <td>8271.27</td>\n",
       "      <td>9545.98</td>\n",
       "      <td>-2848.93</td>\n",
       "      <td>26</td>\n",
       "      <td>138</td>\n",
       "      <td>554</td>\n",
       "    </tr>\n",
       "    <tr>\n",
       "      <th>4</th>\n",
       "      <td>4</td>\n",
       "      <td>7102.16</td>\n",
       "      <td>14148.80</td>\n",
       "      <td>-2381.15</td>\n",
       "      <td>85</td>\n",
       "      <td>120</td>\n",
       "      <td>809</td>\n",
       "    </tr>\n",
       "  </tbody>\n",
       "</table>\n",
       "</div>"
      ],
      "text/plain": [
       "   ACTIVITY     TIME        SL      EEG  BP   HR  CIRCLUATION\n",
       "0         3  4722.92   4019.64 -1600.00  13   79          317\n",
       "1         2  4059.12   2191.03 -1146.08  20   54          165\n",
       "2         2  4773.56   2787.99 -1263.38  46   67          224\n",
       "3         4  8271.27   9545.98 -2848.93  26  138          554\n",
       "4         4  7102.16  14148.80 -2381.15  85  120          809"
      ]
     },
     "execution_count": 1,
     "metadata": {},
     "output_type": "execute_result"
    }
   ],
   "source": [
    "import pandas as pd\n",
    "import numpy as np\n",
    "import seaborn as sns\n",
    "import matplotlib.pyplot as plt\n",
    "%matplotlib inline\n",
    "\n",
    "data = pd.read_csv('falldetection.csv')\n",
    "print(data.shape)\n",
    "data.head()"
   ]
  },
  {
   "cell_type": "markdown",
   "metadata": {},
   "source": [
    "## Data Exploration"
   ]
  },
  {
   "cell_type": "code",
   "execution_count": 2,
   "metadata": {},
   "outputs": [
    {
     "name": "stdout",
     "output_type": "stream",
     "text": [
      "0    4608\n",
      "3    3588\n",
      "4    3494\n",
      "2    2502\n",
      "5    1688\n",
      "1     502\n",
      "Name: ACTIVITY, dtype: int64\n"
     ]
    },
    {
     "data": {
      "image/png": "[encoded data removed]",
      "text/plain": [
       "<Figure size 432x288 with 1 Axes>"
      ]
     },
     "metadata": {
      "needs_background": "light"
     },
     "output_type": "display_data"
    }
   ],
   "source": [
    "print(data['ACTIVITY'].value_counts())\n",
    "\n",
    "sns.countplot(x='ACTIVITY',data = data, palette='hls',order = data['ACTIVITY'].value_counts().index)\n",
    "sns.set(rc={'figure.figsize':(8,8)})\n",
    "plt.show()"
   ]
  },
  {
   "cell_type": "code",
   "execution_count": 3,
   "metadata": {},
   "outputs": [
    {
     "name": "stdout",
     "output_type": "stream",
     "text": [
      "<class 'pandas.core.frame.DataFrame'>\n",
      "RangeIndex: 16382 entries, 0 to 16381\n",
      "Data columns (total 7 columns):\n",
      "ACTIVITY       16382 non-null int64\n",
      "TIME           16382 non-null float64\n",
      "SL             16382 non-null float64\n",
      "EEG            16382 non-null float64\n",
      "BP             16382 non-null int64\n",
      "HR             16382 non-null int64\n",
      "CIRCLUATION    16382 non-null int64\n",
      "dtypes: float64(3), int64(4)\n",
      "memory usage: 896.0 KB\n"
     ]
    }
   ],
   "source": [
    "data.info()"
   ]
  },
  {
   "cell_type": "code",
   "execution_count": 4,
   "metadata": {},
   "outputs": [
    {
     "data": {
      "text/html": [
       "<div>\n",
       "<style scoped>\n",
       "    .dataframe tbody tr th:only-of-type {\n",
       "        vertical-align: middle;\n",
       "    }\n",
       "\n",
       "    .dataframe tbody tr th {\n",
       "        vertical-align: top;\n",
       "    }\n",
       "\n",
       "    .dataframe thead th {\n",
       "        text-align: right;\n",
       "    }\n",
       "</style>\n",
       "<table border=\"1\" class=\"dataframe\">\n",
       "  <thead>\n",
       "    <tr style=\"text-align: right;\">\n",
       "      <th></th>\n",
       "      <th>ACTIVITY</th>\n",
       "      <th>TIME</th>\n",
       "      <th>SL</th>\n",
       "      <th>EEG</th>\n",
       "      <th>BP</th>\n",
       "      <th>HR</th>\n",
       "      <th>CIRCLUATION</th>\n",
       "    </tr>\n",
       "  </thead>\n",
       "  <tbody>\n",
       "    <tr>\n",
       "      <th>count</th>\n",
       "      <td>16382.000000</td>\n",
       "      <td>16382.000000</td>\n",
       "      <td>1.638200e+04</td>\n",
       "      <td>1.638200e+04</td>\n",
       "      <td>16382.000000</td>\n",
       "      <td>16382.000000</td>\n",
       "      <td>16382.000000</td>\n",
       "    </tr>\n",
       "    <tr>\n",
       "      <th>mean</th>\n",
       "      <td>2.361494</td>\n",
       "      <td>10936.842478</td>\n",
       "      <td>7.527198e+04</td>\n",
       "      <td>-5.621125e+03</td>\n",
       "      <td>58.251068</td>\n",
       "      <td>211.536992</td>\n",
       "      <td>2894.341472</td>\n",
       "    </tr>\n",
       "    <tr>\n",
       "      <th>std</th>\n",
       "      <td>1.739195</td>\n",
       "      <td>5261.463601</td>\n",
       "      <td>1.275022e+05</td>\n",
       "      <td>1.082209e+05</td>\n",
       "      <td>48.292926</td>\n",
       "      <td>129.949521</td>\n",
       "      <td>3825.927830</td>\n",
       "    </tr>\n",
       "    <tr>\n",
       "      <th>min</th>\n",
       "      <td>0.000000</td>\n",
       "      <td>1954.230000</td>\n",
       "      <td>4.222420e+01</td>\n",
       "      <td>-1.262600e+07</td>\n",
       "      <td>0.000000</td>\n",
       "      <td>33.000000</td>\n",
       "      <td>5.000000</td>\n",
       "    </tr>\n",
       "    <tr>\n",
       "      <th>25%</th>\n",
       "      <td>0.000000</td>\n",
       "      <td>7263.685000</td>\n",
       "      <td>9.941170e+03</td>\n",
       "      <td>-5.630000e+03</td>\n",
       "      <td>25.000000</td>\n",
       "      <td>119.000000</td>\n",
       "      <td>587.000000</td>\n",
       "    </tr>\n",
       "    <tr>\n",
       "      <th>50%</th>\n",
       "      <td>3.000000</td>\n",
       "      <td>9769.355000</td>\n",
       "      <td>3.118920e+04</td>\n",
       "      <td>-3.361275e+03</td>\n",
       "      <td>44.000000</td>\n",
       "      <td>180.000000</td>\n",
       "      <td>1581.000000</td>\n",
       "    </tr>\n",
       "    <tr>\n",
       "      <th>75%</th>\n",
       "      <td>4.000000</td>\n",
       "      <td>13481.650000</td>\n",
       "      <td>8.076145e+04</td>\n",
       "      <td>-2.150000e+03</td>\n",
       "      <td>78.000000</td>\n",
       "      <td>271.000000</td>\n",
       "      <td>3539.000000</td>\n",
       "    </tr>\n",
       "    <tr>\n",
       "      <th>max</th>\n",
       "      <td>5.000000</td>\n",
       "      <td>50895.500000</td>\n",
       "      <td>2.426140e+06</td>\n",
       "      <td>1.410000e+06</td>\n",
       "      <td>533.000000</td>\n",
       "      <td>986.000000</td>\n",
       "      <td>52210.000000</td>\n",
       "    </tr>\n",
       "  </tbody>\n",
       "</table>\n",
       "</div>"
      ],
      "text/plain": [
       "           ACTIVITY          TIME            SL           EEG            BP  \\\n",
       "count  16382.000000  16382.000000  1.638200e+04  1.638200e+04  16382.000000   \n",
       "mean       2.361494  10936.842478  7.527198e+04 -5.621125e+03     58.251068   \n",
       "std        1.739195   5261.463601  1.275022e+05  1.082209e+05     48.292926   \n",
       "min        0.000000   1954.230000  4.222420e+01 -1.262600e+07      0.000000   \n",
       "25%        0.000000   7263.685000  9.941170e+03 -5.630000e+03     25.000000   \n",
       "50%        3.000000   9769.355000  3.118920e+04 -3.361275e+03     44.000000   \n",
       "75%        4.000000  13481.650000  8.076145e+04 -2.150000e+03     78.000000   \n",
       "max        5.000000  50895.500000  2.426140e+06  1.410000e+06    533.000000   \n",
       "\n",
       "                 HR   CIRCLUATION  \n",
       "count  16382.000000  16382.000000  \n",
       "mean     211.536992   2894.341472  \n",
       "std      129.949521   3825.927830  \n",
       "min       33.000000      5.000000  \n",
       "25%      119.000000    587.000000  \n",
       "50%      180.000000   1581.000000  \n",
       "75%      271.000000   3539.000000  \n",
       "max      986.000000  52210.000000  "
      ]
     },
     "execution_count": 4,
     "metadata": {},
     "output_type": "execute_result"
    }
   ],
   "source": [
    "data.describe()"
   ]
  },
  {
   "cell_type": "markdown",
   "metadata": {},
   "source": [
    "## Correlation"
   ]
  },
  {
   "cell_type": "code",
   "execution_count": 5,
   "metadata": {},
   "outputs": [
    {
     "data": {
      "image/png": "[encoded data removed]",
      "text/plain": [
       "<Figure size 1152x864 with 2 Axes>"
      ]
     },
     "metadata": {},
     "output_type": "display_data"
    }
   ],
   "source": [
    "plt.figure(figsize=(16,12))\n",
    "sns.heatmap(data=data.corr(),annot=True,fmt='.2f',cmap='coolwarm')\n",
    "plt.show()"
   ]
  },
  {
   "cell_type": "code",
   "execution_count": 6,
   "metadata": {},
   "outputs": [
    {
     "data": {
      "text/plain": [
       "ACTIVITY       1.000000\n",
       "EEG            0.027084\n",
       "TIME          -0.110405\n",
       "BP            -0.116499\n",
       "CIRCLUATION   -0.134331\n",
       "HR            -0.144609\n",
       "SL            -0.146789\n",
       "Name: ACTIVITY, dtype: float64"
      ]
     },
     "execution_count": 6,
     "metadata": {},
     "output_type": "execute_result"
    }
   ],
   "source": [
    "corr_rank = data.corr()\n",
    "corr_rank[\"ACTIVITY\"].sort_values(ascending=False)"
   ]
  },
  {
   "cell_type": "markdown",
   "metadata": {},
   "source": [
    "## Data Processing and Selection"
   ]
  },
  {
   "cell_type": "code",
   "execution_count": 7,
   "metadata": {},
   "outputs": [
    {
     "name": "stdout",
     "output_type": "stream",
     "text": [
      "Feature Dataset (16382, 6)\n"
     ]
    },
    {
     "data": {
      "text/html": [
       "<div>\n",
       "<style scoped>\n",
       "    .dataframe tbody tr th:only-of-type {\n",
       "        vertical-align: middle;\n",
       "    }\n",
       "\n",
       "    .dataframe tbody tr th {\n",
       "        vertical-align: top;\n",
       "    }\n",
       "\n",
       "    .dataframe thead th {\n",
       "        text-align: right;\n",
       "    }\n",
       "</style>\n",
       "<table border=\"1\" class=\"dataframe\">\n",
       "  <thead>\n",
       "    <tr style=\"text-align: right;\">\n",
       "      <th></th>\n",
       "      <th>TIME</th>\n",
       "      <th>SL</th>\n",
       "      <th>EEG</th>\n",
       "      <th>BP</th>\n",
       "      <th>HR</th>\n",
       "      <th>CIRCLUATION</th>\n",
       "    </tr>\n",
       "  </thead>\n",
       "  <tbody>\n",
       "    <tr>\n",
       "      <th>0</th>\n",
       "      <td>4722.92</td>\n",
       "      <td>4019.64</td>\n",
       "      <td>-1600.00</td>\n",
       "      <td>13</td>\n",
       "      <td>79</td>\n",
       "      <td>317</td>\n",
       "    </tr>\n",
       "    <tr>\n",
       "      <th>1</th>\n",
       "      <td>4059.12</td>\n",
       "      <td>2191.03</td>\n",
       "      <td>-1146.08</td>\n",
       "      <td>20</td>\n",
       "      <td>54</td>\n",
       "      <td>165</td>\n",
       "    </tr>\n",
       "  </tbody>\n",
       "</table>\n",
       "</div>"
      ],
      "text/plain": [
       "      TIME       SL      EEG  BP  HR  CIRCLUATION\n",
       "0  4722.92  4019.64 -1600.00  13  79          317\n",
       "1  4059.12  2191.03 -1146.08  20  54          165"
      ]
     },
     "execution_count": 7,
     "metadata": {},
     "output_type": "execute_result"
    }
   ],
   "source": [
    "X=data.iloc[:, 1:] #from 1st variable until 2nd last var\n",
    "print('Feature Dataset', X.shape)\n",
    "X[0:2]"
   ]
  },
  {
   "cell_type": "code",
   "execution_count": 8,
   "metadata": {},
   "outputs": [
    {
     "name": "stdout",
     "output_type": "stream",
     "text": [
      "Target Dataset (16382,)\n"
     ]
    },
    {
     "data": {
      "text/plain": [
       "0    3\n",
       "1    2\n",
       "2    2\n",
       "3    4\n",
       "4    4\n",
       "Name: ACTIVITY, dtype: int64"
      ]
     },
     "execution_count": 8,
     "metadata": {},
     "output_type": "execute_result"
    }
   ],
   "source": [
    "y = data[\"ACTIVITY\"]\n",
    "print('Target Dataset', y.shape)\n",
    "y[0:5]"
   ]
  },
  {
   "cell_type": "code",
   "execution_count": 9,
   "metadata": {},
   "outputs": [
    {
     "name": "stdout",
     "output_type": "stream",
     "text": [
      "Feature Dataset (16382, 6)\n"
     ]
    },
    {
     "name": "stderr",
     "output_type": "stream",
     "text": [
      "D:\\Anaconda3\\lib\\site-packages\\sklearn\\preprocessing\\data.py:625: DataConversionWarning: Data with input dtype int64, float64 were all converted to float64 by StandardScaler.\n",
      "  return self.partial_fit(X, y)\n",
      "D:\\Anaconda3\\lib\\site-packages\\ipykernel_launcher.py:4: DataConversionWarning: Data with input dtype int64, float64 were all converted to float64 by StandardScaler.\n",
      "  after removing the cwd from sys.path.\n"
     ]
    },
    {
     "data": {
      "text/plain": [
       "array([[-1.18106151, -0.55884911,  0.03715777, -0.93704095, -1.01994249,\n",
       "        -0.67367192],\n",
       "       [-1.30722797, -0.57319134,  0.04135228, -0.79208776, -1.21233075,\n",
       "        -0.71340206]])"
      ]
     },
     "execution_count": 9,
     "metadata": {},
     "output_type": "execute_result"
    }
   ],
   "source": [
    "from sklearn.preprocessing import StandardScaler\n",
    "scaler = StandardScaler()\n",
    "scaler.fit(X)\n",
    "X = scaler.transform(X)\n",
    "print('Feature Dataset', X.shape)\n",
    "X[0:2]"
   ]
  },
  {
   "cell_type": "markdown",
   "metadata": {},
   "source": [
    "## Split Train Test"
   ]
  },
  {
   "cell_type": "code",
   "execution_count": 10,
   "metadata": {},
   "outputs": [
    {
     "name": "stdout",
     "output_type": "stream",
     "text": [
      "Kernel Accuracy Score\n",
      "- Default: 0.379\n",
      "- Linear : 0.3464\n",
      "- RBF    : 0.379\n",
      "- Polynomial: 0.293\n"
     ]
    }
   ],
   "source": [
    "from sklearn.model_selection import train_test_split\n",
    "X_train, X_test, y_train, y_test = train_test_split(X, y, test_size=0.2, random_state=1)\n",
    "\n",
    "#Default Parameter\n",
    "from sklearn.svm import SVC\n",
    "from sklearn import metrics\n",
    "svc=SVC(gamma='auto') #Default hyperparameters\n",
    "svc.fit(X_train,y_train)\n",
    "y_pred=svc.predict(X_test)\n",
    "print('Kernel Accuracy Score')\n",
    "print('- Default:',round(metrics.accuracy_score(y_test,y_pred),4))\n",
    "\n",
    "#Linear Kernel\n",
    "svc=SVC(kernel='linear', gamma='auto')\n",
    "svc.fit(X_train,y_train)\n",
    "y_pred=svc.predict(X_test)\n",
    "print('- Linear :',round(metrics.accuracy_score(y_test,y_pred),4))\n",
    "\n",
    "#RBF Kernel\n",
    "svc=SVC(kernel='rbf', gamma='auto')\n",
    "svc.fit(X_train,y_train)\n",
    "y_pred=svc.predict(X_test)\n",
    "print('- RBF    :', round(metrics.accuracy_score(y_test,y_pred),4))\n",
    "\n",
    "#Polynomial kernel\n",
    "svc=SVC(kernel='poly', gamma='auto')\n",
    "svc.fit(X_train,y_train)\n",
    "y_pred=svc.predict(X_test)\n",
    "print('- Polynomial:', round(metrics.accuracy_score(y_test,y_pred),4))"
   ]
  },
  {
   "cell_type": "code",
   "execution_count": 11,
   "metadata": {},
   "outputs": [
    {
     "name": "stdout",
     "output_type": "stream",
     "text": [
      "Linear accuracy score: 0.3113\n"
     ]
    }
   ],
   "source": [
    "from sklearn.svm import SVC\n",
    "svc= SVC(kernel='linear',C=0.1)\n",
    "svc.fit(X_train,y_train)\n",
    "y_predict=svc.predict(X_test)\n",
    "\n",
    "accuracy_score= metrics.accuracy_score(y_test,y_predict)\n",
    "print('Linear accuracy score:', round(accuracy_score,4))"
   ]
  },
  {
   "cell_type": "markdown",
   "metadata": {},
   "source": [
    "## Test Prediction"
   ]
  },
  {
   "cell_type": "code",
   "execution_count": 12,
   "metadata": {},
   "outputs": [
    {
     "data": {
      "text/html": [
       "<div>\n",
       "<style scoped>\n",
       "    .dataframe tbody tr th:only-of-type {\n",
       "        vertical-align: middle;\n",
       "    }\n",
       "\n",
       "    .dataframe tbody tr th {\n",
       "        vertical-align: top;\n",
       "    }\n",
       "\n",
       "    .dataframe thead th {\n",
       "        text-align: right;\n",
       "    }\n",
       "</style>\n",
       "<table border=\"1\" class=\"dataframe\">\n",
       "  <thead>\n",
       "    <tr style=\"text-align: right;\">\n",
       "      <th></th>\n",
       "      <th>ACTIVITY</th>\n",
       "      <th>TIME</th>\n",
       "      <th>SL</th>\n",
       "      <th>EEG</th>\n",
       "      <th>BP</th>\n",
       "      <th>HR</th>\n",
       "      <th>CIRCLUATION</th>\n",
       "    </tr>\n",
       "  </thead>\n",
       "  <tbody>\n",
       "    <tr>\n",
       "      <th>10</th>\n",
       "      <td>0</td>\n",
       "      <td>7069.95</td>\n",
       "      <td>15336.6</td>\n",
       "      <td>-3000.09</td>\n",
       "      <td>81</td>\n",
       "      <td>133</td>\n",
       "      <td>847</td>\n",
       "    </tr>\n",
       "    <tr>\n",
       "      <th>30</th>\n",
       "      <td>4</td>\n",
       "      <td>11983.70</td>\n",
       "      <td>46065.4</td>\n",
       "      <td>-5543.47</td>\n",
       "      <td>49</td>\n",
       "      <td>273</td>\n",
       "      <td>2061</td>\n",
       "    </tr>\n",
       "  </tbody>\n",
       "</table>\n",
       "</div>"
      ],
      "text/plain": [
       "    ACTIVITY      TIME       SL      EEG  BP   HR  CIRCLUATION\n",
       "10         0   7069.95  15336.6 -3000.09  81  133          847\n",
       "30         4  11983.70  46065.4 -5543.47  49  273         2061"
      ]
     },
     "execution_count": 12,
     "metadata": {},
     "output_type": "execute_result"
    }
   ],
   "source": [
    "df_pred1 = data[data.index == 10]\n",
    "df_pred2 = data[data.index == 30]\n",
    "\n",
    "df_pred = df_pred1.append(df_pred2)\n",
    "df_pred.head()"
   ]
  },
  {
   "cell_type": "code",
   "execution_count": 13,
   "metadata": {},
   "outputs": [
    {
     "name": "stderr",
     "output_type": "stream",
     "text": [
      "D:\\Anaconda3\\lib\\site-packages\\sklearn\\preprocessing\\data.py:625: DataConversionWarning: Data with input dtype int64, float64 were all converted to float64 by StandardScaler.\n",
      "  return self.partial_fit(X, y)\n",
      "D:\\Anaconda3\\lib\\site-packages\\ipykernel_launcher.py:4: DataConversionWarning: Data with input dtype int64, float64 were all converted to float64 by StandardScaler.\n",
      "  after removing the cwd from sys.path.\n"
     ]
    },
    {
     "data": {
      "text/plain": [
       "array([4, 0], dtype=int64)"
      ]
     },
     "execution_count": 13,
     "metadata": {},
     "output_type": "execute_result"
    }
   ],
   "source": [
    "df_pred=df_pred.iloc[:, 1:]\n",
    "scaler = StandardScaler()\n",
    "scaler.fit(df_pred)\n",
    "df_pred = scaler.transform(df_pred)\n",
    "\n",
    "predict_result=svc.predict(df_pred)\n",
    "predict_result"
   ]
  }
 ],
 "metadata": {
  "kernelspec": {
   "display_name": "Python 3",
   "language": "python",
   "name": "python3"
  },
  "language_info": {
   "codemirror_mode": {
    "name": "ipython",
    "version": 3
   },
   "file_extension": ".py",
   "mimetype": "text/x-python",
   "name": "python",
   "nbconvert_exporter": "python",
   "pygments_lexer": "ipython3",
   "version": "3.7.1"
  }
 },
 "nbformat": 4,
 "nbformat_minor": 2
}
